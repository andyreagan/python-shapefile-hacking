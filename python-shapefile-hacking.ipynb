{
 "metadata": {
  "name": "",
  "signature": "sha256:e99bbf4b71a4a3e3810d92476dbbd2a0b90c1b39b3dfb0aa4ddc501b79b0ac26"
 },
 "nbformat": 3,
 "nbformat_minor": 0,
 "worksheets": [
  {
   "cells": [
    {
     "cell_type": "code",
     "collapsed": false,
     "input": [
      "# load the first simple geometry\n",
      "import fiona\n",
      "from shapely.geometry import Point,Polygon\n",
      "c = fiona.open('shapefiles/cb_2013_us_ua10_500k.shp','r')\n",
      "coordinates = []\n",
      "for city in list(c):\n",
      "    if city['geometry']['type'] == 'Polygon':\n",
      "        # print(city)\n",
      "        coordinates = city['geometry']['coordinates'][0]\n",
      "        break\n",
      "p = Polygon(coordinates)\n",
      "print(p)\n",
      "pt = Point([-97.58,27.94])\n",
      "p.contains(pt)"
     ],
     "language": "python",
     "metadata": {},
     "outputs": [
      {
       "output_type": "stream",
       "stream": "stdout",
       "text": [
        "POLYGON ((-110.642771 32.596403, -110.640142 32.599216, -110.641214 32.602232, -110.634806 32.609506, -110.632637 32.610398, -110.631214 32.612955, -110.631592 32.61415, -110.629253 32.615778, -110.631672 32.618789, -110.630124 32.619622, -110.628183 32.618931, -110.6286 32.617863, -110.626075 32.614449, -110.628104 32.614184, -110.617735 32.600968, -110.63069 32.599631, -110.632248 32.597527, -110.635779 32.59682, -110.637135 32.599611, -110.639453 32.597127, -110.638702 32.595627, -110.641772 32.594369, -110.642771 32.596403))\n"
       ]
      },
      {
       "metadata": {},
       "output_type": "pyout",
       "prompt_number": 83,
       "text": [
        "False"
       ]
      }
     ],
     "prompt_number": 83
    },
    {
     "cell_type": "code",
     "collapsed": false,
     "input": [
      "# load the first complex geometry\n",
      "import fiona\n",
      "from shapely.geometry import Point,Polygon,MultiPolygon\n",
      "c = fiona.open('shapefiles/cb_2013_us_ua10_500k.shp','r')\n",
      "coordinates = []\n",
      "for city in list(c):\n",
      "    if city['geometry']['type'] == 'MultiPolygon':\n",
      "        # print(city)\n",
      "        coordinates = city['geometry']['coordinates']\n",
      "        break\n",
      "# p = MultiPolygon(coordinates)\n",
      "# print(p)"
     ],
     "language": "python",
     "metadata": {},
     "outputs": [],
     "prompt_number": 84
    },
    {
     "cell_type": "code",
     "collapsed": false,
     "input": [
      "print(len(coordinates))\n",
      "for c in coordinates:\n",
      "    print(len(c))\n",
      "    print(len(c[0]))\n",
      "# there are 12, length one lists\n",
      "# since the lists have length 1, I think this means\n",
      "# that there are no holes\n",
      "# and that these are 12 disjoint areas"
     ],
     "language": "python",
     "metadata": {},
     "outputs": [
      {
       "output_type": "stream",
       "stream": "stdout",
       "text": [
        "12\n",
        "1\n",
        "18\n",
        "1\n",
        "35\n",
        "1\n",
        "8\n",
        "1\n",
        "13\n",
        "1\n",
        "16\n",
        "1\n",
        "28\n",
        "1\n",
        "6\n",
        "1\n",
        "7\n",
        "1\n",
        "8\n",
        "1\n",
        "1370\n",
        "1\n",
        "235\n",
        "1\n",
        "24\n"
       ]
      }
     ],
     "prompt_number": 85
    },
    {
     "cell_type": "code",
     "collapsed": false,
     "input": [
      "# The MultiPolygon constructor takes a sequence of exterior ring\n",
      "# and hole list tuples: [((a1, ..., aM), [(b1, ..., bN), ...]), ...].\n",
      "exterior_ring = ((1,1),(0,1),(0,0),(1,0))\n",
      "interior_hole1 = ((.3,.3),(.1,3),(.1,.1),(.3,.1))\n",
      "interior_hole2 = ((.9,.9),(.7,9),(.7,.7),(.9,.7))\n",
      "p = MultiPolygon([(exterior_ring,[interior_hole1,interior_hole2]),(exterior_ring,[])])"
     ],
     "language": "python",
     "metadata": {},
     "outputs": [],
     "prompt_number": 86
    },
    {
     "cell_type": "code",
     "collapsed": false,
     "input": [
      "try:\n",
      "    p = MultiPolygon(coordinates)\n",
      "except:\n",
      "    print('nope')"
     ],
     "language": "python",
     "metadata": {},
     "outputs": [
      {
       "output_type": "stream",
       "stream": "stdout",
       "text": [
        "nope\n"
       ]
      }
     ],
     "prompt_number": 87
    },
    {
     "cell_type": "code",
     "collapsed": false,
     "input": [
      "coordinates_w_empty_holes = [(tuple(c[0]),()) for c in coordinates]"
     ],
     "language": "python",
     "metadata": {},
     "outputs": [],
     "prompt_number": 88
    },
    {
     "cell_type": "code",
     "collapsed": false,
     "input": [
      "p = MultiPolygon(coordinates_w_empty_holes)"
     ],
     "language": "python",
     "metadata": {},
     "outputs": [],
     "prompt_number": 89
    },
    {
     "cell_type": "code",
     "collapsed": false,
     "input": [
      "pt = Point([-97.58,27.94])\n",
      "p.contains(pt)"
     ],
     "language": "python",
     "metadata": {},
     "outputs": [
      {
       "metadata": {},
       "output_type": "pyout",
       "prompt_number": 90,
       "text": [
        "False"
       ]
      }
     ],
     "prompt_number": 90
    },
    {
     "cell_type": "code",
     "collapsed": false,
     "input": [
      "# load all of the geometries\n",
      "import fiona\n",
      "from shapely.geometry import Point,Polygon,MultiPolygon\n",
      "c = fiona.open('shapefiles/cb_2013_us_ua10_500k.shp','r')\n",
      "polygonList = []\n",
      "nameList = []\n",
      "polygonCount = 0\n",
      "multiPolygonCount = 0\n",
      "for city in list(c):\n",
      "    nameList.append(city['properties']['NAME10'])\n",
      "    if city['geometry']['type'] == 'Polygon':\n",
      "        polygonCount += 1\n",
      "        # print(city)\n",
      "        coordinates = city['geometry']['coordinates']\n",
      "        polygonList.append(Polygon(coordinates[0]))\n",
      "    elif city['geometry']['type'] == 'MultiPolygon':\n",
      "        multiPolygonCount += 1\n",
      "        coordinates = city['geometry']['coordinates']\n",
      "        # check that there aren't any holes:\n",
      "        # for c in coordinates:\n",
      "            # if len(c) != 1:\n",
      "                # print('{0} has holes...in different area codes'.format(city['properties']['NAME10']))\n",
      "                # print(c)\n",
      "        coordinates_w_holes = [(tuple(c[0]),()) if len(c) == 1 else (tuple(c[0]),(c[1:])) for c in coordinates]\n",
      "        polygonList.append(MultiPolygon(coordinates_w_holes))\n",
      "    else:\n",
      "        print('unknown geometry ' % city['geometry']['type'])\n",
      "# p = MultiPolygon(coordinates)\n",
      "# print(p)\n",
      "print('done')"
     ],
     "language": "python",
     "metadata": {},
     "outputs": [
      {
       "output_type": "stream",
       "stream": "stdout",
       "text": [
        "done\n"
       ]
      }
     ],
     "prompt_number": 91
    },
    {
     "cell_type": "code",
     "collapsed": false,
     "input": [
      "print(polygonCount)\n",
      "print(multiPolygonCount)"
     ],
     "language": "python",
     "metadata": {},
     "outputs": [
      {
       "output_type": "stream",
       "stream": "stdout",
       "text": [
        "1289\n",
        "2312\n"
       ]
      }
     ],
     "prompt_number": 92
    },
    {
     "cell_type": "code",
     "collapsed": false,
     "input": [
      "pt = Point([-97.58,27.94])\n",
      "for i,city in enumerate(polygonList):\n",
      "    if city.contains(pt):\n",
      "        print(i)\n",
      "        print(nameList[i])\n",
      "        break"
     ],
     "language": "python",
     "metadata": {},
     "outputs": [
      {
       "output_type": "stream",
       "stream": "stdout",
       "text": [
        "22\n",
        "Odem, TX\n"
       ]
      }
     ],
     "prompt_number": 93
    },
    {
     "cell_type": "code",
     "collapsed": false,
     "input": [
      "def cityID(polygonList,pt):\n",
      "    for i,city in enumerate(polygonList):\n",
      "        if city.contains(pt):\n",
      "            return i\n",
      "    return -1"
     ],
     "language": "python",
     "metadata": {},
     "outputs": [],
     "prompt_number": 94
    },
    {
     "cell_type": "code",
     "collapsed": false,
     "input": [
      "locID = cityID(polygonList,pt)"
     ],
     "language": "python",
     "metadata": {},
     "outputs": [],
     "prompt_number": 95
    },
    {
     "cell_type": "code",
     "collapsed": false,
     "input": [
      "import json\n",
      "f = open('testfiles/test.json','r')\n",
      "for line in f:\n",
      "    tweet = json.loads(line)\n",
      "    # print(tweet['coordinates']['coordinates'])\n",
      "    pt = Point(tweet['coordinates']['coordinates'])\n",
      "    loc = cityID(polygonList,pt)\n",
      "    if loc > -1:\n",
      "        print(nameList[loc])\n",
      "    else:\n",
      "        print('not found')"
     ],
     "language": "python",
     "metadata": {},
     "outputs": [
      {
       "output_type": "stream",
       "stream": "stdout",
       "text": [
        "not found\n",
        "not found\n",
        "not found"
       ]
      },
      {
       "output_type": "stream",
       "stream": "stdout",
       "text": [
        "\n",
        "not found\n",
        "not found"
       ]
      },
      {
       "output_type": "stream",
       "stream": "stdout",
       "text": [
        "\n",
        "Miami, FL\n",
        "Lake Placid, NY\n",
        "Boston, MA--NH--RI"
       ]
      },
      {
       "output_type": "stream",
       "stream": "stdout",
       "text": [
        "\n",
        "not found\n",
        "San Diego, CA\n"
       ]
      }
     ],
     "prompt_number": 96
    },
    {
     "cell_type": "code",
     "collapsed": false,
     "input": [],
     "language": "python",
     "metadata": {},
     "outputs": [],
     "prompt_number": 96
    }
   ],
   "metadata": {}
  }
 ]
}