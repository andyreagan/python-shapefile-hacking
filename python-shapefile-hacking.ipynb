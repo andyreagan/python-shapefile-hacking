{
 "cells": [
  {
   "cell_type": "code",
   "execution_count": 83,
   "metadata": {
    "collapsed": false
   },
   "outputs": [
    {
     "name": "stdout",
     "output_type": "stream",
     "text": [
      "POLYGON ((-110.642771 32.596403, -110.640142 32.599216, -110.641214 32.602232, -110.634806 32.609506, -110.632637 32.610398, -110.631214 32.612955, -110.631592 32.61415, -110.629253 32.615778, -110.631672 32.618789, -110.630124 32.619622, -110.628183 32.618931, -110.6286 32.617863, -110.626075 32.614449, -110.628104 32.614184, -110.617735 32.600968, -110.63069 32.599631, -110.632248 32.597527, -110.635779 32.59682, -110.637135 32.599611, -110.639453 32.597127, -110.638702 32.595627, -110.641772 32.594369, -110.642771 32.596403))\n"
     ]
    },
    {
     "data": {
      "text/plain": [
       "False"
      ]
     },
     "execution_count": 83,
     "metadata": {},
     "output_type": "execute_result"
    }
   ],
   "source": [
    "# load the first simple geometry\n",
    "import fiona\n",
    "from shapely.geometry import Point,Polygon\n",
    "c = fiona.open('shapefiles/cb_2013_us_ua10_500k.shp','r')\n",
    "coordinates = []\n",
    "for city in list(c):\n",
    "    if city['geometry']['type'] == 'Polygon':\n",
    "        # print(city)\n",
    "        coordinates = city['geometry']['coordinates'][0]\n",
    "        break\n",
    "p = Polygon(coordinates)\n",
    "print(p)\n",
    "pt = Point([-97.58,27.94])\n",
    "p.contains(pt)"
   ]
  },
  {
   "cell_type": "code",
   "execution_count": 84,
   "metadata": {
    "collapsed": false
   },
   "outputs": [],
   "source": [
    "# load the first complex geometry\n",
    "import fiona\n",
    "from shapely.geometry import Point,Polygon,MultiPolygon\n",
    "c = fiona.open('shapefiles/cb_2013_us_ua10_500k.shp','r')\n",
    "coordinates = []\n",
    "for city in list(c):\n",
    "    if city['geometry']['type'] == 'MultiPolygon':\n",
    "        # print(city)\n",
    "        coordinates = city['geometry']['coordinates']\n",
    "        break\n",
    "# p = MultiPolygon(coordinates)\n",
    "# print(p)"
   ]
  },
  {
   "cell_type": "code",
   "execution_count": 85,
   "metadata": {
    "collapsed": false
   },
   "outputs": [
    {
     "name": "stdout",
     "output_type": "stream",
     "text": [
      "12\n",
      "1\n",
      "18\n",
      "1\n",
      "35\n",
      "1\n",
      "8\n",
      "1\n",
      "13\n",
      "1\n",
      "16\n",
      "1\n",
      "28\n",
      "1\n",
      "6\n",
      "1\n",
      "7\n",
      "1\n",
      "8\n",
      "1\n",
      "1370\n",
      "1\n",
      "235\n",
      "1\n",
      "24\n"
     ]
    }
   ],
   "source": [
    "print(len(coordinates))\n",
    "for c in coordinates:\n",
    "    print(len(c))\n",
    "    print(len(c[0]))\n",
    "# there are 12, length one lists\n",
    "# since the lists have length 1, I think this means\n",
    "# that there are no holes\n",
    "# and that these are 12 disjoint areas"
   ]
  },
  {
   "cell_type": "code",
   "execution_count": 86,
   "metadata": {
    "collapsed": false
   },
   "outputs": [],
   "source": [
    "# The MultiPolygon constructor takes a sequence of exterior ring\n",
    "# and hole list tuples: [((a1, ..., aM), [(b1, ..., bN), ...]), ...].\n",
    "exterior_ring = ((1,1),(0,1),(0,0),(1,0))\n",
    "interior_hole1 = ((.3,.3),(.1,3),(.1,.1),(.3,.1))\n",
    "interior_hole2 = ((.9,.9),(.7,9),(.7,.7),(.9,.7))\n",
    "p = MultiPolygon([(exterior_ring,[interior_hole1,interior_hole2]),(exterior_ring,[])])"
   ]
  },
  {
   "cell_type": "code",
   "execution_count": 87,
   "metadata": {
    "collapsed": false
   },
   "outputs": [
    {
     "name": "stdout",
     "output_type": "stream",
     "text": [
      "nope\n"
     ]
    }
   ],
   "source": [
    "try:\n",
    "    p = MultiPolygon(coordinates)\n",
    "except:\n",
    "    print('nope')"
   ]
  },
  {
   "cell_type": "code",
   "execution_count": 88,
   "metadata": {
    "collapsed": false
   },
   "outputs": [],
   "source": [
    "coordinates_w_empty_holes = [(tuple(c[0]),()) for c in coordinates]"
   ]
  },
  {
   "cell_type": "code",
   "execution_count": 89,
   "metadata": {
    "collapsed": false
   },
   "outputs": [],
   "source": [
    "p = MultiPolygon(coordinates_w_empty_holes)"
   ]
  },
  {
   "cell_type": "code",
   "execution_count": 90,
   "metadata": {
    "collapsed": false
   },
   "outputs": [
    {
     "data": {
      "text/plain": [
       "False"
      ]
     },
     "execution_count": 90,
     "metadata": {},
     "output_type": "execute_result"
    }
   ],
   "source": [
    "pt = Point([-97.58,27.94])\n",
    "p.contains(pt)"
   ]
  },
  {
   "cell_type": "code",
   "execution_count": 91,
   "metadata": {
    "collapsed": false
   },
   "outputs": [
    {
     "name": "stdout",
     "output_type": "stream",
     "text": [
      "done\n"
     ]
    }
   ],
   "source": [
    "# load all of the geometries\n",
    "import fiona\n",
    "from shapely.geometry import Point,Polygon,MultiPolygon\n",
    "c = fiona.open('shapefiles/cb_2013_us_ua10_500k.shp','r')\n",
    "polygonList = []\n",
    "nameList = []\n",
    "polygonCount = 0\n",
    "multiPolygonCount = 0\n",
    "for city in list(c):\n",
    "    nameList.append(city['properties']['NAME10'])\n",
    "    if city['geometry']['type'] == 'Polygon':\n",
    "        polygonCount += 1\n",
    "        # print(city)\n",
    "        coordinates = city['geometry']['coordinates']\n",
    "        polygonList.append(Polygon(coordinates[0]))\n",
    "    elif city['geometry']['type'] == 'MultiPolygon':\n",
    "        multiPolygonCount += 1\n",
    "        coordinates = city['geometry']['coordinates']\n",
    "        # check that there aren't any holes:\n",
    "        # for c in coordinates:\n",
    "            # if len(c) != 1:\n",
    "                # print('{0} has holes...in different area codes'.format(city['properties']['NAME10']))\n",
    "                # print(c)\n",
    "        coordinates_w_holes = [(tuple(c[0]),()) if len(c) == 1 else (tuple(c[0]),(c[1:])) for c in coordinates]\n",
    "        polygonList.append(MultiPolygon(coordinates_w_holes))\n",
    "    else:\n",
    "        print('unknown geometry ' % city['geometry']['type'])\n",
    "# p = MultiPolygon(coordinates)\n",
    "# print(p)\n",
    "print('done')"
   ]
  },
  {
   "cell_type": "code",
   "execution_count": 92,
   "metadata": {
    "collapsed": false
   },
   "outputs": [
    {
     "name": "stdout",
     "output_type": "stream",
     "text": [
      "1289\n",
      "2312\n"
     ]
    }
   ],
   "source": [
    "print(polygonCount)\n",
    "print(multiPolygonCount)"
   ]
  },
  {
   "cell_type": "code",
   "execution_count": 93,
   "metadata": {
    "collapsed": false
   },
   "outputs": [
    {
     "name": "stdout",
     "output_type": "stream",
     "text": [
      "22\n",
      "Odem, TX\n"
     ]
    }
   ],
   "source": [
    "pt = Point([-97.58,27.94])\n",
    "for i,city in enumerate(polygonList):\n",
    "    if city.contains(pt):\n",
    "        print(i)\n",
    "        print(nameList[i])\n",
    "        break"
   ]
  },
  {
   "cell_type": "code",
   "execution_count": 94,
   "metadata": {
    "collapsed": false
   },
   "outputs": [],
   "source": [
    "def cityID(polygonList,pt):\n",
    "    for i,city in enumerate(polygonList):\n",
    "        if city.contains(pt):\n",
    "            return i\n",
    "    return -1"
   ]
  },
  {
   "cell_type": "code",
   "execution_count": 95,
   "metadata": {
    "collapsed": false
   },
   "outputs": [],
   "source": [
    "locID = cityID(polygonList,pt)"
   ]
  },
  {
   "cell_type": "code",
   "execution_count": 96,
   "metadata": {
    "collapsed": false
   },
   "outputs": [
    {
     "name": "stdout",
     "output_type": "stream",
     "text": [
      "not found\n",
      "not found\n",
      "not found\n",
      "not found\n",
      "not found\n",
      "Miami, FL\n",
      "Lake Placid, NY\n",
      "Boston, MA--NH--RI\n",
      "not found\n",
      "San Diego, CA\n"
     ]
    }
   ],
   "source": [
    "import json\n",
    "f = open('testfiles/test.json','r')\n",
    "for line in f:\n",
    "    tweet = json.loads(line)\n",
    "    # print(tweet['coordinates']['coordinates'])\n",
    "    pt = Point(tweet['coordinates']['coordinates'])\n",
    "    loc = cityID(polygonList,pt)\n",
    "    if loc > -1:\n",
    "        print(nameList[loc])\n",
    "    else:\n",
    "        print('not found')"
   ]
  },
  {
   "cell_type": "code",
   "execution_count": 96,
   "metadata": {
    "collapsed": false
   },
   "outputs": [],
   "source": []
  }
 ],
 "metadata": {
  "kernelspec": {
   "display_name": "Python 3",
   "language": "python",
   "name": "python3"
  },
  "language_info": {
   "codemirror_mode": {
    "name": "ipython",
    "version": 3
   },
   "file_extension": ".py",
   "mimetype": "text/x-python",
   "name": "python",
   "nbconvert_exporter": "python",
   "pygments_lexer": "ipython3",
   "version": "3.5.1"
  }
 },
 "nbformat": 4,
 "nbformat_minor": 0
}
